{
 "cells": [
  {
   "cell_type": "markdown",
   "metadata": {},
   "source": [
    "### Import modules"
   ]
  },
  {
   "cell_type": "code",
   "execution_count": 37,
   "metadata": {},
   "outputs": [],
   "source": [
    "# Imports\n",
    "import os\n",
    "import cv2 as cv\n",
    "import numpy as np\n",
    "from tkinter import Tk\n",
    "from tkinter.filedialog import askdirectory\n",
    "from functions import *"
   ]
  },
  {
   "cell_type": "markdown",
   "metadata": {},
   "source": [
    "### Run code on 2 sample images"
   ]
  },
  {
   "cell_type": "code",
   "execution_count": 38,
   "metadata": {},
   "outputs": [
    {
     "data": {
      "text/plain": [
       "True"
      ]
     },
     "execution_count": 38,
     "metadata": {},
     "output_type": "execute_result"
    }
   ],
   "source": [
    "# Image Paths\n",
    "img0_path = r\"C:\\Users\\Vraj\\Documents\\Thesis\\Image-Algorithm\\Sample Images\\Image_Set_1\\OCT Images\\OCT_p7.png\"\n",
    "img1_path = r\"C:\\Users\\Vraj\\Documents\\Thesis\\Image-Algorithm\\Sample Images\\Image_Set_1\\OCT Images\\OCT_p6.png\"\n",
    "# img0_path = r\"C:\\Users\\Vraj\\Documents\\Thesis\\Image-Algorithm\\Sample Images\\Test_Images\\1.png\"\n",
    "# img1_path = r\"C:\\Users\\Vraj\\Documents\\Thesis\\Image-Algorithm\\Sample Images\\Test_Images\\2.png\"\n",
    "\n",
    "\n",
    "# Load Images\n",
    "img0 = cv.imread(img0_path)\n",
    "img1 = cv.imread(img1_path)\n",
    "\n",
    "# Convert images to grayscale\n",
    "img0_gray = cv.cvtColor(img0, cv.COLOR_RGB2GRAY)\n",
    "img1_gray = cv.cvtColor(img1, cv.COLOR_RGB2GRAY)\n",
    "\n",
    "# Extract features\n",
    "features0 = featureExtraction(img0_gray)\n",
    "features1 = featureExtraction(img1_gray)\n",
    "\n",
    "# Match features\n",
    "matches = featureMatching(features0, features1)\n",
    "\n",
    "# Calculate homography\n",
    "homography, _ = cv.findHomography(\n",
    "    features0.matched_pts, features1.matched_pts, cv.RANSAC, 5.0\n",
    ")\n",
    "\n",
    "# Calculate dimensions of image to be warped\n",
    "height, width, _ = img1.shape\n",
    "\n",
    "# Warp target image to source image using homography matrix\n",
    "warped = cv.warpPerspective(\n",
    "    img0,\n",
    "    homography,\n",
    "    (width, height),\n",
    "    borderMode=cv.BORDER_CONSTANT,  # need to see if applying a border around the image would be a good idea to avoid errors\n",
    "    borderValue=(0, 0, 0, 0),\n",
    ")\n",
    "\n",
    "# Some stuff is happening here\n",
    "output = np.zeros((height, width, 3), np.uint8)\n",
    "alpha = warped[:, :, 2] / 255.0\n",
    "output[:, :, 0] = (1.0 - alpha) * img1[:, :, 0] + alpha * warped[:, :, 0]\n",
    "output[:, :, 1] = (1.0 - alpha) * img1[:, :, 1] + alpha * warped[:, :, 1]\n",
    "output[:, :, 2] = (1.0 - alpha) * img1[:, :, 2] + alpha * warped[:, :, 2]\n",
    "\n",
    "# Save image\n",
    "cv.imwrite('output.png', output)\n"
   ]
  },
  {
   "cell_type": "markdown",
   "metadata": {},
   "source": [
    "### Calculate normalised cross-corellation to assess registration performance"
   ]
  },
  {
   "cell_type": "code",
   "execution_count": 39,
   "metadata": {},
   "outputs": [
    {
     "name": "stdout",
     "output_type": "stream",
     "text": [
      "97.10%\n"
     ]
    }
   ],
   "source": [
    "corellation = crossCorellation(img1, output)\n",
    "print(corellation)"
   ]
  },
  {
   "cell_type": "markdown",
   "metadata": {},
   "source": [
    "### Calculate absolute difference between target and output images"
   ]
  },
  {
   "cell_type": "code",
   "execution_count": 40,
   "metadata": {},
   "outputs": [],
   "source": [
    "absDifference(img1, output)"
   ]
  }
 ],
 "metadata": {
  "kernelspec": {
   "display_name": "Python 3.10.6 64-bit",
   "language": "python",
   "name": "python3"
  },
  "language_info": {
   "codemirror_mode": {
    "name": "ipython",
    "version": 3
   },
   "file_extension": ".py",
   "mimetype": "text/x-python",
   "name": "python",
   "nbconvert_exporter": "python",
   "pygments_lexer": "ipython3",
   "version": "3.10.6"
  },
  "orig_nbformat": 4,
  "vscode": {
   "interpreter": {
    "hash": "ba93d035dac3032e656cbe52384bd608b972777017258f6bc7b5db7e82c70e90"
   }
  }
 },
 "nbformat": 4,
 "nbformat_minor": 2
}
